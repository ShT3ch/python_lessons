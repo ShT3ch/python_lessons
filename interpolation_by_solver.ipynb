{
 "cells": [
  {
   "cell_type": "code",
   "execution_count": 1,
   "metadata": {
    "collapsed": true
   },
   "outputs": [],
   "source": [
    "import numpy as np\n",
    "import matplotlib\n",
    "%matplotlib inline\n",
    "import random"
   ]
  },
  {
   "cell_type": "code",
   "execution_count": 2,
   "metadata": {
    "collapsed": false
   },
   "outputs": [],
   "source": [
    "rnd = lambda : random.random() - 0.5"
   ]
  },
  {
   "cell_type": "code",
   "execution_count": 3,
   "metadata": {
    "collapsed": true
   },
   "outputs": [],
   "source": [
    "def generate_data(length=3):\n",
    "    x_s = np.array(range(length))\n",
    "    points = np.array([(x**2+1+rnd()) for x in x_s])\n",
    "    return x_s, points"
   ]
  },
  {
   "cell_type": "code",
   "execution_count": 4,
   "metadata": {
    "collapsed": false
   },
   "outputs": [],
   "source": [
    "def generate_degrees(point, highest_degree):\n",
    "    return [point**degree for degree in range(highest_degree,-1,-1)]\n",
    "\n",
    "def generate_poly_features(x_points, highest_degree=2):\n",
    "    print 'degrees = [%s]'%(range(highest_degree,-1,-1))\n",
    "    return np.matrix([generate_degrees(point,highest_degree) for point in x_points])"
   ]
  },
  {
   "cell_type": "code",
   "execution_count": 5,
   "metadata": {
    "collapsed": false
   },
   "outputs": [
    {
     "name": "stdout",
     "output_type": "stream",
     "text": [
      "degrees = [[6, 5, 4, 3, 2, 1, 0]]\n"
     ]
    }
   ],
   "source": [
    "experiment_length = 7\n",
    "x_s, y_s = generate_data(length=experiment_length)\n",
    "poly_x_s = generate_poly_features(x_s, experiment_length-1)\n"
   ]
  },
  {
   "cell_type": "code",
   "execution_count": 6,
   "metadata": {
    "collapsed": false
   },
   "outputs": [
    {
     "data": {
      "text/plain": [
       "<matplotlib.collections.PathCollection at 0x9d19be0>"
      ]
     },
     "execution_count": 6,
     "metadata": {},
     "output_type": "execute_result"
    },
    {
     "data": {
      "image/png": "[encoded data removed]",
      "text/plain": [
       "<matplotlib.figure.Figure at 0x9711780>"
      ]
     },
     "metadata": {},
     "output_type": "display_data"
    }
   ],
   "source": [
    "matplotlib.pylab.scatter(x_s, y_s)"
   ]
  },
  {
   "cell_type": "code",
   "execution_count": 7,
   "metadata": {
    "collapsed": false
   },
   "outputs": [],
   "source": [
    "coefs = np.linalg.solve(poly_x_s, y_s)\n",
    "\n",
    "A = np.matrix(coefs).T"
   ]
  },
  {
   "cell_type": "code",
   "execution_count": 20,
   "metadata": {
    "collapsed": false
   },
   "outputs": [],
   "source": [
    "x_s_r, y_s_r = zip(*[(x, float(np.matrix(generate_degrees(x, experiment_length-1))*A)) for x in np.linspace(-1,experiment_length+2, num=50)])"
   ]
  },
  {
   "cell_type": "code",
   "execution_count": 21,
   "metadata": {
    "collapsed": false
   },
   "outputs": [
    {
     "data": {
      "text/plain": [
       "[<matplotlib.lines.Line2D at 0xadca320>]"
      ]
     },
     "execution_count": 21,
     "metadata": {},
     "output_type": "execute_result"
    },
    {
     "data": {
      "image/png": "[encoded data removed]",
      "text/plain": [
       "<matplotlib.figure.Figure at 0xadca198>"
      ]
     },
     "metadata": {},
     "output_type": "display_data"
    }
   ],
   "source": [
    "matplotlib.pylab.scatter(x_s, y_s)\n",
    "matplotlib.pyplot.plot(x_s_r, y_s_r)\n"
   ]
  },
  {
   "cell_type": "code",
   "execution_count": 22,
   "metadata": {
    "collapsed": false
   },
   "outputs": [
    {
     "name": "stdout",
     "output_type": "stream",
     "text": [
      "degrees = [[2, 1, 0]]\n",
      "(7L, 3L)\n",
      "[[ 0  0  1]\n",
      " [ 1  1  1]\n",
      " [ 4  2  1]\n",
      " [ 9  3  1]\n",
      " [16  4  1]\n",
      " [25  5  1]\n",
      " [36  6  1]]\n",
      "(7L,)\n",
      "[  0.6350762    2.25374255   5.34684139   9.87685306  16.69601573\n",
      "  26.32183877  36.74125104]\n"
     ]
    }
   ],
   "source": [
    "poly_x_s = generate_poly_features(x_s, 2)\n",
    "\n",
    "print poly_x_s.shape\n",
    "print poly_x_s\n",
    "\n",
    "print y_s.shape\n",
    "print y_s\n",
    "\n",
    "X = poly_x_s\n",
    "y = np.matrix(y_s).T\n"
   ]
  },
  {
   "cell_type": "code",
   "execution_count": 23,
   "metadata": {
    "collapsed": false
   },
   "outputs": [],
   "source": [
    "LS_coefs = (X.T*X).I*(X.T*y)"
   ]
  },
  {
   "cell_type": "code",
   "execution_count": 26,
   "metadata": {
    "collapsed": false
   },
   "outputs": [],
   "source": [
    "\n",
    "x_s_r, y_s_r = zip(*[(x, float(np.matrix(generate_degrees(x, 2))*LS_coefs)) for x in np.linspace(-1,experiment_length+2, num=50)])"
   ]
  },
  {
   "cell_type": "code",
   "execution_count": 27,
   "metadata": {
    "collapsed": false
   },
   "outputs": [
    {
     "data": {
      "text/plain": [
       "[<matplotlib.lines.Line2D at 0xb1ed550>]"
      ]
     },
     "execution_count": 27,
     "metadata": {},
     "output_type": "execute_result"
    },
    {
     "data": {
      "image/png": "[encoded data removed]",
      "text/plain": [
       "<matplotlib.figure.Figure at 0xb1edc18>"
      ]
     },
     "metadata": {},
     "output_type": "display_data"
    }
   ],
   "source": [
    "matplotlib.pylab.scatter(x_s, y_s)\n",
    "matplotlib.pyplot.plot(x_s_r, y_s_r)\n"
   ]
  },
  {
   "cell_type": "code",
   "execution_count": null,
   "metadata": {
    "collapsed": true
   },
   "outputs": [],
   "source": []
  }
 ],
 "metadata": {
  "kernelspec": {
   "display_name": "Python 2",
   "language": "python",
   "name": "python2"
  },
  "language_info": {
   "codemirror_mode": {
    "name": "ipython",
    "version": 2
   },
   "file_extension": ".py",
   "mimetype": "text/x-python",
   "name": "python",
   "nbconvert_exporter": "python",
   "pygments_lexer": "ipython2",
   "version": "2.7.11rc1"
  }
 },
 "nbformat": 4,
 "nbformat_minor": 0
}
